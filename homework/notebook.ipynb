{
 "cells": [
  {
   "cell_type": "code",
   "execution_count": null,
   "metadata": {},
   "outputs": [
    {
     "data": {
      "text/plain": [
       "[['E', '1', '1999-02-28', 'b,g,f', 'jjj:12,bbb:3,ddd:9,ggg:8,hhh:2'],\n",
       " ['A', '2', '1999-10-28', 'a,f,c', 'ccc:2,ddd:0,aaa:3,hhh:9'],\n",
       " ['B', '5', '1998-05-02', 'f,e,a,c', 'ddd:2,ggg:5,ccc:6,jjj:12'],\n",
       " ['A', '3', '1999-08-28', 'a,b', 'hhh:9,iii:5,eee:7,bbb:1'],\n",
       " ['C', '6', '1999-12-01', 'f,g,d,a', 'iii:6,ddd:5,eee:4,jjj:12'],\n",
       " ['A', '7', '1998-07-28', 'c,d', 'bbb:2,hhh:0,ccc:4,fff:1,aaa:7'],\n",
       " ['A', '9', '1997-02-28', 'g,d,a', 'aaa:5,fff:8,ddd:2,iii:0,jjj:7,ccc:1'],\n",
       " ['B', '1', '1999-05-10', 'b,a', 'fff:3,hhh:1,ddd:2'],\n",
       " ['E', '2', '1997-04-12', 'd,e,a,f', 'eee:4,ccc:5,iii:9,fff:7,ggg:6,bbb:2'],\n",
       " ['B', '3', '1999-11-23', 'd,b,g,f', 'bbb:7,jjj:9,fff:5,iii:4,ggg:3,eee:3'],\n",
       " ['C', '7', '1998-01-17', 'd,c,f,b', 'hhh:6,eee:4,iii:0,fff:2,jjj:12'],\n",
       " ['C', '5', '1998-12-28', 'd,e,a,c', 'bbb:7,iii:6,ggg:9'],\n",
       " ['D', '3', '1999-10-15', 'g,e,f,b', 'bbb:9,aaa:3,ccc:6,fff:4,eee:2'],\n",
       " ['E', '8', '1998-11-01', 'c,f', 'aaa:8,ddd:5,jjj:12'],\n",
       " ['B', '9', '1999-08-12', 'd,b', 'ccc:7,jjj:6,fff:7,ddd:3,aaa:2'],\n",
       " ['D', '8', '1997-12-01', 'f,e', 'ccc:8,eee:6,bbb:9,ddd:3'],\n",
       " ['E', '3', '1997-07-28', 'e,b,f', 'bbb:6,iii:3,hhh:5,fff:4,ggg:9,ddd:2'],\n",
       " ['D', '5', '1998-08-12', 'g,a', 'hhh:4,jjj:5,ccc:9'],\n",
       " ['E', '8', '1999-08-24', 'e,c,f,a', 'ccc:1,iii:6,fff:9'],\n",
       " ['E', '9', '1998-01-23', 'e,a', 'bbb:9,aaa:3,fff:1'],\n",
       " ['E', '7', '1999-06-22', 'e,f', 'ddd:9,iii:2,aaa:4'],\n",
       " ['E', '3', '1999-04-24', 'c,b,g', 'ccc:5,fff:8,iii:7'],\n",
       " ['D', '5', '1999-06-25', 'c,f,a', 'eee:3,jjj:17,ddd:7'],\n",
       " ['A', '9', '1999-08-25', 'f,a,d', 'jjj:12,ggg:7,ccc:7,ddd:9,bbb:3'],\n",
       " ['E', '4', '1997-07-26', 'c,d', 'jjj:6,ccc:4,aaa:1,hhh:9,iii:7,ggg:8'],\n",
       " ['E', '6', '1997-09-24', 'e,d,c', 'fff:3,eee:6,iii:4,bbb:7,ddd:4,ccc:1'],\n",
       " ['A', '8', '1997-09-28', 'a,e,f', 'fff:0,ddd:5,ccc:4'],\n",
       " ['E', '5', '1999-06-22', 'c,a,g', 'ggg:6,hhh:3,ddd:9,ccc:10,jjj:7'],\n",
       " ['A', '6', '1999-07-29', 'f,e', 'hhh:6,jjj:13,eee:5,iii:7,ccc:3'],\n",
       " ['C', '0', '1999-08-22', 'f,c,a,g', 'eee:1,fff:4,aaa:2,ccc:7,ggg:10,ddd:6'],\n",
       " ['A', '9', '1998-04-26', 'b,f', 'ccc:6,aaa:9,eee:5,ddd:0,bbb:3'],\n",
       " ['D', '3', '1998-02-24', 'b,f', 'bbb:7,hhh:1,aaa:6,iii:4,fff:9,ddd:5'],\n",
       " ['E', '5', '1999-03-24', 'a,c', 'fff:3,ccc:1,ggg:3,eee:5'],\n",
       " ['B', '4', '1998-03-23', 'b,f,c', 'iii:7,ggg:3,ddd:0,jjj:8,hhh:5,ccc:1'],\n",
       " ['B', '6', '1999-04-21', 'f,a,e', 'hhh:6,ccc:3,jjj:9,bbb:8,ddd:7'],\n",
       " ['D', '7', '1999-02-29', 'a,f', 'aaa:1,fff:5,ddd:3'],\n",
       " ['B', '8', '1997-05-21', 'c,a', 'ddd:5,jjj:17,iii:7,ccc:10,bbb:4'],\n",
       " ['C', '9', '1997-07-22', 'c,a,e,f', 'eee:3,fff:2,hhh:6'],\n",
       " ['E', '1', '1999-09-28', 'e,d', 'fff:9,iii:2,eee:5'],\n",
       " ['E', '5', '1998-01-26', 'f,a,d', 'hhh:8,ggg:3,jjj:5']]"
      ]
     },
     "execution_count": 5,
     "metadata": {},
     "output_type": "execute_result"
    }
   ],
   "source": [
    "file_path = '../files/input/data.csv'\n",
    "file = open(file_path, \"r\").readlines()\n",
    "file = [z.replace('\\n', '')for z in file]\n",
    "file = [z.split(\"\\t\")for z in file]\n",
    "file"
   ]
  },
  {
   "cell_type": "code",
   "execution_count": null,
   "metadata": {},
   "outputs": [
    {
     "data": {
      "text/plain": [
       "214"
      ]
     },
     "execution_count": 2,
     "metadata": {},
     "output_type": "execute_result"
    }
   ],
   "source": [
    "#-- 1 ---\n",
    "# Definir una función para sumar la segunda columna del archivo CSV\n",
    "\n",
    "\n",
    "def prueba_pregunta_01():\n",
    "    file_path = '../files/input/data.csv'\n",
    "    total_suma = 0\n",
    "    with open(file_path, 'r') as file:\n",
    "        for line in file:\n",
    "            columns = line.strip().split('\\t')\n",
    "            total_suma += int(columns[1])\n",
    "    return total_suma\n",
    "\n",
    "suma_segunda_columna = prueba_pregunta_01()\n",
    "suma_segunda_columna\n"
   ]
  },
  {
   "cell_type": "code",
   "execution_count": null,
   "metadata": {},
   "outputs": [
    {
     "data": {
      "text/plain": [
       "[('A', 8), ('B', 7), ('C', 5), ('D', 6), ('E', 14)]"
      ]
     },
     "execution_count": 2,
     "metadata": {},
     "output_type": "execute_result"
    }
   ],
   "source": [
    "#-- 2 ---\n",
    "# map\n",
    "def map_function(line):\n",
    "        letter = line.strip().split('\\t')[0]\n",
    "        return (letter, 1)\n",
    "\n",
    "# reduce\n",
    "def reduce_function(mapped_data):\n",
    "        reduce_dict = {}\n",
    "        for key, value in mapped_data:\n",
    "            if key in reduce_dict:\n",
    "                reduce_dict[key] += value\n",
    "            else:\n",
    "                reduce_dict[key] = value\n",
    "        return reduce_dict\n",
    "\n",
    "\n",
    "\n",
    "def pregunta_02():\n",
    "\n",
    "    file_path = '../files/input/data.csv'\n",
    "    mapped_data = []\n",
    "    with open(file_path, 'r') as file:\n",
    "        for line in file:\n",
    "            mapped_data.append(map_function(line))\n",
    "    \n",
    "    reduced_data = reduce_function(mapped_data)\n",
    "    \n",
    "    result = sorted(reduced_data.items())\n",
    "    return result\n",
    "\n",
    "resultado_mapreduce = pregunta_02()\n",
    "resultado_mapreduce"
   ]
  },
  {
   "cell_type": "code",
   "execution_count": null,
   "metadata": {},
   "outputs": [
    {
     "data": {
      "text/plain": [
       "[('A', 53), ('B', 36), ('C', 27), ('D', 31), ('E', 67)]"
      ]
     },
     "execution_count": 6,
     "metadata": {},
     "output_type": "execute_result"
    }
   ],
   "source": [
    "#-- 3 ---\n",
    "# map\n",
    "def map_function(line):\n",
    "        parts = line.strip().split('\\t')\n",
    "        letter = parts[0]\n",
    "        count = int(parts[1])\n",
    "        return (letter, count)\n",
    "\n",
    "# reduce\n",
    "def reduce_function(mapped_data):\n",
    "        reduce_dict = {}\n",
    "        for key, value in mapped_data:\n",
    "            if key in reduce_dict:\n",
    "                reduce_dict[key] += value\n",
    "            else:\n",
    "                reduce_dict[key] = value\n",
    "        return reduce_dict\n",
    "\n",
    "\n",
    "\n",
    "def pregunta_03():\n",
    "\n",
    "    file_path = '../files/input/data.csv'\n",
    "    mapped_data = []\n",
    "    with open(file_path, 'r') as file:\n",
    "        for line in file:\n",
    "            mapped_data.append(map_function(line))\n",
    "    \n",
    "    reduced_data = reduce_function(mapped_data)\n",
    "    \n",
    "    result = sorted(reduced_data.items())\n",
    "    return result\n",
    "\n",
    "resultado_mapreduce_suma = pregunta_03()\n",
    "resultado_mapreduce_suma"
   ]
  },
  {
   "cell_type": "code",
   "execution_count": null,
   "metadata": {},
   "outputs": [
    {
     "data": {
      "text/plain": [
       "[('01', 3),\n",
       " ('02', 4),\n",
       " ('03', 2),\n",
       " ('04', 4),\n",
       " ('05', 3),\n",
       " ('06', 3),\n",
       " ('07', 5),\n",
       " ('08', 6),\n",
       " ('09', 3),\n",
       " ('10', 2),\n",
       " ('11', 2),\n",
       " ('12', 3)]"
      ]
     },
     "execution_count": 7,
     "metadata": {},
     "output_type": "execute_result"
    }
   ],
   "source": [
    "#-- 4 ---\n",
    "# map\n",
    "def map_function(line):\n",
    "        parts = line.strip().split('\\t')\n",
    "        date = parts[2]\n",
    "        month = date.split('-')[1]\n",
    "        return (month, 1)\n",
    "\n",
    "# reduce\n",
    "def reduce_function(mapped_data):\n",
    "        reduce_dict = {}\n",
    "        for key, value in mapped_data:\n",
    "            if key in reduce_dict:\n",
    "                reduce_dict[key] += value\n",
    "            else:\n",
    "                reduce_dict[key] = value\n",
    "        return reduce_dict\n",
    "\n",
    "\n",
    "\n",
    "def pregunta_04():\n",
    "\n",
    "    file_path = '../files/input/data.csv'\n",
    "    mapped_data = []\n",
    "    with open(file_path, 'r') as file:\n",
    "        for line in file:\n",
    "            mapped_data.append(map_function(line))\n",
    "    \n",
    "    reduced_data = reduce_function(mapped_data)\n",
    "    \n",
    "    result = sorted(reduced_data.items())\n",
    "    return result\n",
    "\n",
    "resultado_meses = pregunta_04()\n",
    "resultado_meses"
   ]
  },
  {
   "cell_type": "code",
   "execution_count": 31,
   "metadata": {},
   "outputs": [
    {
     "data": {
      "text/plain": [
       "[('A', 9, 2), ('B', 9, 1), ('C', 9, 0), ('D', 8, 3), ('E', 9, 1)]"
      ]
     },
     "execution_count": 31,
     "metadata": {},
     "output_type": "execute_result"
    }
   ],
   "source": [
    "#-- 5 ---\n",
    "# map\n",
    "def map_function(line):\n",
    "    parts = line.strip().split('\\t')\n",
    "    letter = parts[0]\n",
    "    count = int(parts[1])\n",
    "    return (letter, count)\n",
    "\n",
    "# reduce\n",
    "def reduce_function(mapped_data):\n",
    "    reduce_dict = {}\n",
    "    for key, value in mapped_data:\n",
    "        if key in reduce_dict:\n",
    "            current_max, current_min = reduce_dict[key]\n",
    "            reduce_dict[key] = (max(current_max, value), min(current_min, value))\n",
    "        else:\n",
    "            reduce_dict[key] = (value, value)\n",
    "    return reduce_dict\n",
    "\n",
    "def pregunta_05():\n",
    "\n",
    "    file_path = '../files/input/data.csv'\n",
    "    mapped_data = []\n",
    "    with open(file_path, 'r') as file:\n",
    "        for line in file:\n",
    "            mapped_data.append(map_function(line))\n",
    "    \n",
    "    reduced_data = reduce_function(mapped_data)\n",
    "    \n",
    "    result = [(k, v[0], v[1]) for k, v in sorted(reduced_data.items())]\n",
    "    return result\n",
    "\n",
    "resultado_max_min = pregunta_05()\n",
    "resultado_max_min"
   ]
  },
  {
   "cell_type": "code",
   "execution_count": 29,
   "metadata": {},
   "outputs": [
    {
     "data": {
      "text/plain": [
       "['A', '2', '1999-10-28', 'a,f,c', 'ccc:2,ddd:0,aaa:3,hhh:9']"
      ]
     },
     "execution_count": 29,
     "metadata": {},
     "output_type": "execute_result"
    }
   ],
   "source": [
    "file_path = '../files/input/data.csv'\n",
    "file = open(file_path, \"r\").readlines()\n",
    "file = [z.replace('\\n', '')for z in file]\n",
    "file = [z.split(\"\\t\")for z in file]\n",
    "#file = [z[4] for z in file[0:]]\n",
    "#file = [z.split(\",\")for z in file]\n",
    "file[1]"
   ]
  },
  {
   "cell_type": "code",
   "execution_count": null,
   "metadata": {},
   "outputs": [
    {
     "data": {
      "text/plain": [
       "[('aaa', 1, 9),\n",
       " ('bbb', 1, 9),\n",
       " ('ccc', 1, 10),\n",
       " ('ddd', 0, 9),\n",
       " ('eee', 1, 7),\n",
       " ('fff', 0, 9),\n",
       " ('ggg', 3, 10),\n",
       " ('hhh', 0, 9),\n",
       " ('iii', 0, 9),\n",
       " ('jjj', 5, 17)]"
      ]
     },
     "execution_count": 35,
     "metadata": {},
     "output_type": "execute_result"
    }
   ],
   "source": [
    "#-- 6 --\n",
    "# map\n",
    "def map_function(line):\n",
    "    parts = line.strip().split('\\t')\n",
    "    key_values = parts[4].split(',')\n",
    "    result = []\n",
    "    for kv in key_values:\n",
    "        key, value = kv.split(':')\n",
    "        result.append((key, int(value)))\n",
    "    return result\n",
    "\n",
    "\n",
    "# reduce\n",
    "def reduce_function(mapped_data):\n",
    "    reduce_dict = {}\n",
    "    for key, value in mapped_data:\n",
    "        if key in reduce_dict:\n",
    "            current_min, current_max = reduce_dict[key]\n",
    "            reduce_dict[key] = (min(current_min, value), max(current_max, value))\n",
    "        else:\n",
    "            reduce_dict[key] = (value, value)\n",
    "    return reduce_dict\n",
    "    \n",
    "\n",
    "def pregunta_06():\n",
    "\n",
    "    file_path = '../files/input/data.csv'\n",
    "    mapped_data = []\n",
    "    with open(file_path, 'r') as file:\n",
    "        for line in file:\n",
    "            mapped_data.extend(map_function(line))\n",
    "    \n",
    "    reduced_data = reduce_function(mapped_data)\n",
    "    \n",
    "    result = [(k, v[0], v[1]) for k, v in sorted(reduced_data.items())]\n",
    "    return result\n",
    "\n",
    "resultado_claves_min_max = pregunta_06()\n",
    "resultado_claves_min_max"
   ]
  },
  {
   "cell_type": "code",
   "execution_count": 43,
   "metadata": {},
   "outputs": [
    {
     "data": {
      "text/plain": [
       "[(0, ['C']),\n",
       " (1, ['E', 'B', 'E']),\n",
       " (2, ['A', 'E']),\n",
       " (3, ['A', 'B', 'D', 'E', 'E', 'D']),\n",
       " (4, ['E', 'B']),\n",
       " (5, ['B', 'C', 'D', 'D', 'E', 'E', 'E']),\n",
       " (6, ['C', 'E', 'A', 'B']),\n",
       " (7, ['A', 'C', 'E', 'D']),\n",
       " (8, ['E', 'D', 'E', 'A', 'B']),\n",
       " (9, ['A', 'B', 'E', 'A', 'A', 'C'])]"
      ]
     },
     "execution_count": 43,
     "metadata": {},
     "output_type": "execute_result"
    }
   ],
   "source": [
    "#-- 7 --\n",
    "# map\n",
    "def map_function(line):\n",
    "    parts = line.strip().split('\\t')\n",
    "    number = parts[1]\n",
    "    letter = parts[0]\n",
    "    return (number, letter)\n",
    "\n",
    "\n",
    "# reduce\n",
    "def reduce_function(mapped_data):\n",
    "    reduce_dict = {}\n",
    "    for number, letter in mapped_data:\n",
    "        if number in reduce_dict:\n",
    "            reduce_dict[number].append(letter)\n",
    "        else:\n",
    "            reduce_dict[number] = [letter]\n",
    "    return reduce_dict\n",
    "    \n",
    "\n",
    "def pregunta_07():\n",
    "\n",
    "    file_path = '../files/input/data.csv'\n",
    "    mapped_data = []\n",
    "    with open(file_path, 'r') as file:\n",
    "        for line in file:\n",
    "            mapped_data.append(map_function(line))\n",
    "    \n",
    "    reduced_data = reduce_function(mapped_data)\n",
    "    \n",
    "    result = sorted([(int(k), list(v)) for k, v in reduced_data.items()], key=lambda x: x[0])\n",
    "    return result\n",
    "\n",
    "resultado_letras_asociadas = pregunta_07()\n",
    "resultado_letras_asociadas"
   ]
  },
  {
   "cell_type": "code",
   "execution_count": 44,
   "metadata": {},
   "outputs": [
    {
     "data": {
      "text/plain": [
       "[(0, ['C']),\n",
       " (1, ['B', 'E']),\n",
       " (2, ['A', 'E']),\n",
       " (3, ['A', 'B', 'D', 'E']),\n",
       " (4, ['B', 'E']),\n",
       " (5, ['B', 'C', 'D', 'E']),\n",
       " (6, ['A', 'B', 'C', 'E']),\n",
       " (7, ['A', 'C', 'D', 'E']),\n",
       " (8, ['A', 'B', 'D', 'E']),\n",
       " (9, ['A', 'B', 'C', 'E'])]"
      ]
     },
     "execution_count": 44,
     "metadata": {},
     "output_type": "execute_result"
    }
   ],
   "source": [
    "#-- 8 --\n",
    "# map\n",
    "def map_function(line):\n",
    "    parts = line.strip().split('\\t')\n",
    "    number = parts[1]\n",
    "    letter = parts[0]\n",
    "    return (number, letter)\n",
    "\n",
    "\n",
    "# reduce\n",
    "def reduce_function(mapped_data):\n",
    "    reduce_dict = {}\n",
    "    for number, letter in mapped_data:\n",
    "        if number in reduce_dict:\n",
    "            reduce_dict[number].add(letter)\n",
    "        else:\n",
    "            reduce_dict[number] = {letter}\n",
    "    return reduce_dict\n",
    "    \n",
    "\n",
    "def pregunta_08():\n",
    "\n",
    "    file_path = '../files/input/data.csv'\n",
    "    mapped_data = []\n",
    "    with open(file_path, 'r') as file:\n",
    "        for line in file:\n",
    "            mapped_data.append(map_function(line))\n",
    "    \n",
    "    reduced_data = reduce_function(mapped_data)\n",
    "    \n",
    "    result = sorted([(int(k), sorted(list(v))) for k, v in reduced_data.items()], key=lambda x: x[0])\n",
    "    return result\n",
    "\n",
    "resultado_letras_asociadas_unicas = pregunta_08()\n",
    "resultado_letras_asociadas_unicas"
   ]
  },
  {
   "cell_type": "code",
   "execution_count": 48,
   "metadata": {},
   "outputs": [
    {
     "data": {
      "text/plain": [
       "{'aaa': 13,\n",
       " 'bbb': 16,\n",
       " 'ccc': 23,\n",
       " 'ddd': 23,\n",
       " 'eee': 15,\n",
       " 'fff': 20,\n",
       " 'ggg': 13,\n",
       " 'hhh': 16,\n",
       " 'iii': 18,\n",
       " 'jjj': 18}"
      ]
     },
     "execution_count": 48,
     "metadata": {},
     "output_type": "execute_result"
    }
   ],
   "source": [
    "#-- 9 --\n",
    "# map\n",
    "def map_function(line):\n",
    "    parts = line.strip().split('\\t')\n",
    "    key_values = parts[4].split(',')\n",
    "    result = []\n",
    "    for kv in key_values:\n",
    "        key, value = kv.split(':')\n",
    "        result.append((key, 1))\n",
    "    return result\n",
    "\n",
    "    \n",
    "# reduce\n",
    "def reduce_function(mapped_data):\n",
    "        reduce_dict = {}\n",
    "        for key, value in mapped_data:\n",
    "            if key in reduce_dict:\n",
    "                reduce_dict[key] += value\n",
    "            else:\n",
    "                reduce_dict[key] = value\n",
    "        return reduce_dict\n",
    "\n",
    "\n",
    "def pregunta_09():\n",
    "\n",
    "    file_path = '../files/input/data.csv'\n",
    "    mapped_data = []\n",
    "    with open(file_path, 'r') as file:\n",
    "        for line in file:\n",
    "            mapped_data.extend(map_function(line))\n",
    "    \n",
    "    reduced_data = reduce_function(mapped_data)\n",
    "    \n",
    "    result = dict(sorted(reduced_data.items()))\n",
    "    return result\n",
    "\n",
    "resultado_claves_sum = pregunta_09()\n",
    "resultado_claves_sum"
   ]
  },
  {
   "cell_type": "code",
   "execution_count": 49,
   "metadata": {},
   "outputs": [
    {
     "data": {
      "text/plain": [
       "[('E', 3, 5),\n",
       " ('A', 3, 4),\n",
       " ('B', 4, 4),\n",
       " ('A', 2, 4),\n",
       " ('C', 4, 4),\n",
       " ('A', 2, 5),\n",
       " ('A', 3, 6),\n",
       " ('B', 2, 3),\n",
       " ('E', 4, 6),\n",
       " ('B', 4, 6),\n",
       " ('C', 4, 5),\n",
       " ('C', 4, 3),\n",
       " ('D', 4, 5),\n",
       " ('E', 2, 3),\n",
       " ('B', 2, 5),\n",
       " ('D', 2, 4),\n",
       " ('E', 3, 6),\n",
       " ('D', 2, 3),\n",
       " ('E', 4, 3),\n",
       " ('E', 2, 3),\n",
       " ('E', 2, 3),\n",
       " ('E', 3, 3),\n",
       " ('D', 3, 3),\n",
       " ('A', 3, 5),\n",
       " ('E', 2, 6),\n",
       " ('E', 3, 6),\n",
       " ('A', 3, 3),\n",
       " ('E', 3, 5),\n",
       " ('A', 2, 5),\n",
       " ('C', 4, 6),\n",
       " ('A', 2, 5),\n",
       " ('D', 2, 6),\n",
       " ('E', 2, 4),\n",
       " ('B', 3, 6),\n",
       " ('B', 3, 5),\n",
       " ('D', 2, 3),\n",
       " ('B', 2, 5),\n",
       " ('C', 4, 3),\n",
       " ('E', 2, 3),\n",
       " ('E', 3, 3)]"
      ]
     },
     "execution_count": 49,
     "metadata": {},
     "output_type": "execute_result"
    }
   ],
   "source": [
    "#-- 10 ---\n",
    "# map\n",
    "def map_function(line):\n",
    "    parts = line.strip().split('\\t')\n",
    "    letter = parts[0]\n",
    "    elements_col4 = len(parts[3].split(','))\n",
    "    elements_col5 = len(parts[4].split(','))\n",
    "    return (letter, elements_col4, elements_col5)\n",
    "\n",
    "\n",
    "def pregunta_10():\n",
    "\n",
    "    file_path = '../files/input/data.csv'\n",
    "    mapped_data = []\n",
    "    with open(file_path, 'r') as file:\n",
    "        for line in file:\n",
    "            mapped_data.append(map_function(line))\n",
    "    \n",
    "    return mapped_data\n",
    "\n",
    "conteo_elementos_letra = pregunta_10()\n",
    "conteo_elementos_letra"
   ]
  },
  {
   "cell_type": "code",
   "execution_count": 50,
   "metadata": {},
   "outputs": [
    {
     "data": {
      "text/plain": [
       "{'a': 122, 'b': 49, 'c': 91, 'd': 73, 'e': 86, 'f': 134, 'g': 35}"
      ]
     },
     "execution_count": 50,
     "metadata": {},
     "output_type": "execute_result"
    }
   ],
   "source": [
    "#-- 11 --\n",
    "# map\n",
    "def map_function(line):\n",
    "    parts = line.strip().split('\\t')\n",
    "    letters = parts[3].split(',')\n",
    "    value = int(parts[1])\n",
    "    return [(letter, value) for letter in letters]  \n",
    "\n",
    "\n",
    "# reduce\n",
    "def reduce_function(mapped_data):\n",
    "    reduce_dict = {}\n",
    "    for key, value in mapped_data:\n",
    "        if key in reduce_dict:\n",
    "            reduce_dict[key] += value\n",
    "        else:\n",
    "            reduce_dict[key] = value\n",
    "    return reduce_dict\n",
    "\n",
    "\n",
    "def pregunta_11():\n",
    "    file_path = '../files/input/data.csv'\n",
    "    mapped_data = []\n",
    "    with open(file_path, 'r') as file:\n",
    "        for line in file:\n",
    "            mapped_data.extend(map_function(line))\n",
    "    reduced_data = reduce_function(mapped_data)\n",
    "    result = dict(sorted(reduced_data.items()))\n",
    "    return result\n",
    "\n",
    "suma_letras = pregunta_11()\n",
    "suma_letras"
   ]
  },
  {
   "cell_type": "code",
   "execution_count": 51,
   "metadata": {},
   "outputs": [
    {
     "data": {
      "text/plain": [
       "{'A': 177, 'B': 187, 'C': 114, 'D': 136, 'E': 324}"
      ]
     },
     "execution_count": 51,
     "metadata": {},
     "output_type": "execute_result"
    }
   ],
   "source": [
    "#-- 11 --\n",
    "# map\n",
    "def map_function(line):\n",
    "    parts = line.strip().split('\\t')\n",
    "    letter = parts[0]\n",
    "    key_values = parts[4].split(',')\n",
    "    value_sum = sum(int(kv.split(':')[1]) for kv in key_values if ':' in kv)\n",
    "    return [(letter, value_sum)]\n",
    "\n",
    "\n",
    "# reduce\n",
    "def reduce_function(mapped_data):\n",
    "    reduce_dict = {}\n",
    "    for key, value in mapped_data:\n",
    "        if key in reduce_dict:\n",
    "            reduce_dict[key] += value\n",
    "        else:\n",
    "            reduce_dict[key] = value\n",
    "    return reduce_dict\n",
    "\n",
    "\n",
    "def pregunta_12():\n",
    "    file_path = '../files/input/data.csv'\n",
    "    mapped_data = []\n",
    "    with open(file_path, 'r') as file:\n",
    "        for line in file:\n",
    "            mapped_data.extend(map_function(line))\n",
    "    reduced_data = reduce_function(mapped_data)\n",
    "    result = dict(sorted(reduced_data.items()))\n",
    "    return result\n",
    "\n",
    "suma_valores_col5 = pregunta_12()\n",
    "suma_valores_col5"
   ]
  }
 ],
 "metadata": {
  "kernelspec": {
   "display_name": ".venv",
   "language": "python",
   "name": "python3"
  },
  "language_info": {
   "codemirror_mode": {
    "name": "ipython",
    "version": 3
   },
   "file_extension": ".py",
   "mimetype": "text/x-python",
   "name": "python",
   "nbconvert_exporter": "python",
   "pygments_lexer": "ipython3",
   "version": "3.13.0"
  }
 },
 "nbformat": 4,
 "nbformat_minor": 2
}
